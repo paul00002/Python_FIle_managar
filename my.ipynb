{
 "cells": [
  {
   "cell_type": "code",
   "execution_count": 2,
   "metadata": {},
   "outputs": [],
   "source": [
    "import os "
   ]
  },
  {
   "cell_type": "code",
   "execution_count": 7,
   "metadata": {},
   "outputs": [],
   "source": [
    "with open(\"myfile.txt\",\"w\")as f:  \n",
    "   f.write(str(os.listdir('C:\\\\Program Files\\\\Microsoft Power BI Desktop\\\\bin')))"
   ]
  },
  {
   "cell_type": "code",
   "execution_count": 4,
   "metadata": {},
   "outputs": [
    {
     "name": "stderr",
     "output_type": "stream",
     "text": [
      "ERROR: Could not find a version that satisfies the requirement base64 (from versions: none)\n",
      "ERROR: No matching distribution found for base64\n"
     ]
    }
   ],
   "source": [
    "!pip install base64"
   ]
  },
  {
   "cell_type": "code",
   "execution_count": 8,
   "metadata": {},
   "outputs": [
    {
     "ename": "LookupError",
     "evalue": "unknown encoding: YAML",
     "output_type": "error",
     "traceback": [
      "\u001b[1;31m---------------------------------------------------------------------------\u001b[0m",
      "\u001b[1;31mLookupError\u001b[0m                               Traceback (most recent call last)",
      "Cell \u001b[1;32mIn[8], line 7\u001b[0m\n\u001b[0;32m      4\u001b[0m \u001b[39m# Stringa binaria dei dati\u001b[39;00m\n\u001b[0;32m      6\u001b[0m base64_string \u001b[39m=\u001b[39m\u001b[39m\"\u001b[39m\u001b[39m VG4Sf+j87G20U1w98ljXLzeFZ/VGRAYZ3tOW\u001b[39m\u001b[39m\"\u001b[39m\n\u001b[1;32m----> 7\u001b[0m base64_bytes \u001b[39m=\u001b[39m base64_string\u001b[39m.\u001b[39;49mencode(\u001b[39m\"\u001b[39;49m\u001b[39mYAML\u001b[39;49m\u001b[39m\"\u001b[39;49m)\n\u001b[0;32m      9\u001b[0m sample_string_bytes \u001b[39m=\u001b[39m base64\u001b[39m.\u001b[39mb64decode(base64_bytes)\n\u001b[0;32m     10\u001b[0m sample_string \u001b[39m=\u001b[39m sample_string_bytes\u001b[39m.\u001b[39mdecode(\u001b[39m\"\u001b[39m\u001b[39mascii\u001b[39m\u001b[39m\"\u001b[39m)\n",
      "\u001b[1;31mLookupError\u001b[0m: unknown encoding: YAML"
     ]
    }
   ],
   "source": [
    "import yaml\n",
    "import base64\n",
    "\n",
    "# Stringa binaria dei dati\n",
    "\n",
    "base64_string =\" VG4Sf+j87G20U1w98ljXLzeFZ/VGRAYZ3tOW\"\n",
    "base64_bytes = base64_string.encode(\"YAML\")\n",
    "  \n",
    "sample_string_bytes = base64.b64decode(base64_bytes)\n",
    "sample_string = sample_string_bytes.decode(\"ascii\")\n",
    "  \n",
    "print(f\"Decoded string: {sample_string}\")\n"
   ]
  }
 ],
 "metadata": {
  "kernelspec": {
   "display_name": "Python 3",
   "language": "python",
   "name": "python3"
  },
  "language_info": {
   "codemirror_mode": {
    "name": "ipython",
    "version": 3
   },
   "file_extension": ".py",
   "mimetype": "text/x-python",
   "name": "python",
   "nbconvert_exporter": "python",
   "pygments_lexer": "ipython3",
   "version": "3.10.9"
  },
  "orig_nbformat": 4
 },
 "nbformat": 4,
 "nbformat_minor": 2
}
